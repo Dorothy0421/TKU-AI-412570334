{
  "nbformat": 4,
  "nbformat_minor": 0,
  "metadata": {
    "colab": {
      "provenance": [],
      "authorship_tag": "ABX9TyOVzfhUysRNZjRusLFNuVNv",
      "include_colab_link": true
    },
    "kernelspec": {
      "name": "python3",
      "display_name": "Python 3"
    },
    "language_info": {
      "name": "python"
    }
  },
  "cells": [
    {
      "cell_type": "markdown",
      "metadata": {
        "id": "view-in-github",
        "colab_type": "text"
      },
      "source": [
        "<a href=\"https://colab.research.google.com/github/Dorothy0421/TKU-AI-412570334/blob/main/0508.ipynb\" target=\"_parent\"><img src=\"https://colab.research.google.com/assets/colab-badge.svg\" alt=\"Open In Colab\"/></a>"
      ]
    },
    {
      "cell_type": "code",
      "execution_count": 3,
      "metadata": {
        "colab": {
          "base_uri": "https://localhost:8080/"
        },
        "id": "lpdWs5ClhmUS",
        "outputId": "13fc3375-3b9f-42e6-c94b-cc45c7ccfa6f"
      },
      "outputs": [
        {
          "output_type": "stream",
          "name": "stdout",
          "text": [
            "請輸入體溫35\n",
            "體溫正常！\n"
          ]
        }
      ],
      "source": [
        "體溫=float(input(\"請輸入體溫\"))\n",
        "if (體溫>=37.5):\n",
        "  print(\"體溫過高！\")\n",
        "elif (37<=體溫 and 體溫<=37.4):\n",
        "  print(\"體溫略高！\")\n",
        "elif (34<=體溫 and 體溫<=36.9):\n",
        "  print(\"體溫正常！\")\n",
        "else:\n",
        "  print(\"體溫異常，請重新測量！\")\n"
      ]
    },
    {
      "cell_type": "code",
      "source": [
        "score=int(input(\"請輸入成績\"))\n",
        "if (score>=90):\n",
        "  print(\"A\")\n",
        "elif(score>=80):\n",
        "  print(\"B\")\n",
        "elif(score>=70):\n",
        "  print(\"C\")\n",
        "elif(score>=60):\n",
        "  print(\"D\")\n",
        "else:\n",
        "  print(\"E\")"
      ],
      "metadata": {
        "colab": {
          "base_uri": "https://localhost:8080/"
        },
        "id": "Sh81g3Tjk0nN",
        "outputId": "1ed3e6df-05ee-4312-f0eb-35f9e74f6bc9"
      },
      "execution_count": 19,
      "outputs": [
        {
          "output_type": "stream",
          "name": "stdout",
          "text": [
            "請輸入成績70\n",
            "C\n"
          ]
        }
      ]
    },
    {
      "cell_type": "code",
      "source": [
        "x=int(input(\"請輸入用月份\"))\n",
        "if(x>=3 and x<=5):\n",
        "  print(\"{}月是春天！\".format(x))\n",
        "elif(x>=6 and x<=8):\n",
        "  print(\"{}月是夏天！\".format(x))\n",
        "elif(x>=9 and x<=11):\n",
        "  print(\"{}月是秋天！\".format(x))\n",
        "elif(x == 12 or 1 or 2):\n",
        "  print(\"{}月是冬天！\".format(x))\n",
        "else:\n",
        "  print(\"月份不在範圍內！\")"
      ],
      "metadata": {
        "colab": {
          "base_uri": "https://localhost:8080/"
        },
        "id": "ad8m0dlEmSXO",
        "outputId": "ea7904ee-c11c-4b32-e949-85a093690573"
      },
      "execution_count": 26,
      "outputs": [
        {
          "output_type": "stream",
          "name": "stdout",
          "text": [
            "請輸入用月份2\n",
            "2月是冬天！\n"
          ]
        }
      ]
    },
    {
      "cell_type": "code",
      "source": [],
      "metadata": {
        "id": "kSKw0CRqnHi6"
      },
      "execution_count": null,
      "outputs": []
    }
  ]
}